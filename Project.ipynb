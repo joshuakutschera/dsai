{
 "cells": [
  {
   "cell_type": "markdown",
   "metadata": {},
   "source": [
    "# Miniproject Joshua Kutschera (heart attack dataset)\n",
    "This project is based on the [Heart Attack Analysis & Prediction Dataset](https://www.kaggle.com/datasets/rashikrahmanpritom/heart-attack-analysis-prediction-dataset/data) from Kaggle.com.\n",
    "\n",
    "[Idea for chart](https://github.com/holoviz/holoviews/issues/3821)\n",
    "\n",
    "## About this dataset:\n",
    "\n",
    "    Age : Age of the patient\n",
    "\n",
    "    Sex : Sex of the patient\n",
    "\n",
    "    exang: exercise induced angina (1 = yes; 0 = no)\n",
    "\n",
    "    ca: number of major vessels (0-3)\n",
    "\n",
    "    cp : Chest Pain type chest pain type\n",
    "        Value 1: typical angina\n",
    "        Value 2: atypical angina\n",
    "        Value 3: non-anginal pain\n",
    "        Value 4: asymptomatic\n",
    "\n",
    "    trtbps : resting blood pressure (in mm Hg)\n",
    "\n",
    "    chol : cholestoral in mg/dl fetched via BMI sensor\n",
    "\n",
    "    fbs : (fasting blood sugar > 120 mg/dl) (1 = true; 0 = false)\n",
    "\n",
    "    rest_ecg : resting electrocardiographic results\n",
    "        Value 0: normal\n",
    "        Value 1: having ST-T wave abnormality (T wave inversions and/or ST elevation or depression of > 0.05 mV)\n",
    "        Value 2: showing probable or definite left ventricular hypertrophy by Estes' criteria\n",
    "\n",
    "    thalach : maximum heart rate achieved\n",
    "\n",
    "    target : 0= less chance of heart attack 1= more chance of heart attack\n",
    "\n"
   ]
  },
  {
   "cell_type": "code",
   "execution_count": 8,
   "metadata": {},
   "outputs": [],
   "source": [
    "import numpy as np\n",
    "data = np.loadtxt(\"./Data/heart.csv\", delimiter=\",\", skiprows=1)\n",
    "X = data[:, :-1]\n",
    "Y = data[:, -1]"
   ]
  },
  {
   "cell_type": "markdown",
   "metadata": {},
   "source": [
    "## Questions\n",
    "Who is at risk of having a heart attack?\n",
    "What is the biggest factor playing into being at risk?"
   ]
  },
  {
   "cell_type": "code",
   "execution_count": null,
   "metadata": {},
   "outputs": [
    {
     "name": "stdout",
     "output_type": "stream",
     "text": [
      "Test Accuracy: 0.8524590163934426\n",
      "Feature Importances:\n",
      "Feature 0: 0.07656258321357846\n",
      "Feature 1: 0.037190916301048496\n",
      "Feature 2: 0.08372473207079724\n",
      "Feature 3: 0.073102984540921\n",
      "Feature 4: 0.08830322771673946\n",
      "Feature 5: 0.017574305947343678\n",
      "Feature 6: 0.02388805612055446\n",
      "Feature 7: 0.1288887993723594\n",
      "Feature 8: 0.09452967791135913\n",
      "Feature 9: 0.09609913623121151\n",
      "Feature 10: 0.06726894376432285\n",
      "Feature 11: 0.1263750158499526\n",
      "Feature 12: 0.08649162095981171\n"
     ]
    }
   ],
   "source": [
    "from sklearn.ensemble import RandomForestClassifier\n",
    "from sklearn.model_selection import train_test_split\n",
    "from sklearn.metrics import accuracy_score\n",
    "\n",
    "X_train, X_test, Y_train, Y_test = train_test_split(X, Y, test_size=0.2, random_state=42)\n",
    "\n",
    "clf = RandomForestClassifier(n_estimators=10, random_state=42)\n",
    "\n",
    "clf.fit(X_train, Y_train)\n",
    "\n",
    "\n",
    "predictions = clf.predict(X_test)\n",
    "accuracy = accuracy_score(Y_test, predictions)\n",
    "print(\"Test Accuracy:\", accuracy)\n",
    "feature_importances = clf.feature_importances_\n",
    "\n",
    "print(\"Feature Importances:\")\n",
    "for i, importance in enumerate(feature_importances):\n",
    "    print(f\"Feature {i}: {importance}\")\n"
   ]
  }
 ],
 "metadata": {
  "kernelspec": {
   "display_name": "base",
   "language": "python",
   "name": "python3"
  },
  "language_info": {
   "codemirror_mode": {
    "name": "ipython",
    "version": 3
   },
   "file_extension": ".py",
   "mimetype": "text/x-python",
   "name": "python",
   "nbconvert_exporter": "python",
   "pygments_lexer": "ipython3",
   "version": "3.12.7"
  }
 },
 "nbformat": 4,
 "nbformat_minor": 2
}
